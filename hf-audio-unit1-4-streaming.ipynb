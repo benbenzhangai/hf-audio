{
 "cells": [
  {
   "cell_type": "code",
   "execution_count": 1,
   "id": "78471080-7ad7-4038-9506-c5ad11c09ea2",
   "metadata": {},
   "outputs": [],
   "source": [
    "from datasets import load_dataset"
   ]
  },
  {
   "cell_type": "markdown",
   "id": "ec79f850-33fa-4880-9093-c6fee8a9fb6b",
   "metadata": {},
   "source": [
    "## Streaming\n",
    "\n",
    "this dataset require hf login and term acceptance on hf"
   ]
  },
  {
   "cell_type": "code",
   "execution_count": 7,
   "id": "a98a53f5-c30e-458d-98ec-d571eb617948",
   "metadata": {
    "scrolled": true
   },
   "outputs": [
    {
     "data": {
      "application/vnd.jupyter.widget-view+json": {
       "model_id": "729a7c08b9df4877b4cefeb30fcda9eb",
       "version_major": 2,
       "version_minor": 0
      },
      "text/plain": [
       "Downloading builder script:   0%|          | 0.00/16.6k [00:00<?, ?B/s]"
      ]
     },
     "metadata": {},
     "output_type": "display_data"
    },
    {
     "data": {
      "application/vnd.jupyter.widget-view+json": {
       "model_id": "e3b12ab137a84ab389b08cc0b0bbdc2c",
       "version_major": 2,
       "version_minor": 0
      },
      "text/plain": [
       "Downloading readme:   0%|          | 0.00/14.0k [00:00<?, ?B/s]"
      ]
     },
     "metadata": {},
     "output_type": "display_data"
    }
   ],
   "source": [
    "gigaspeech = load_dataset(\"speechcolab/gigaspeech\", \"xs\", streaming=True)"
   ]
  },
  {
   "cell_type": "code",
   "execution_count": 8,
   "id": "3d8d60f6-b0af-4a98-9c0e-71cbafe08ef9",
   "metadata": {},
   "outputs": [
    {
     "data": {
      "text/plain": [
       "{'segment_id': 'YOU0000000315_S0000660',\n",
       " 'speaker': 'N/A',\n",
       " 'text': \"AS THEY'RE LEAVING <COMMA> CAN KASH PULL ZAHRA ASIDE REALLY QUICKLY <QUESTIONMARK>\",\n",
       " 'audio': {'path': 'xs_chunks_0000/YOU0000000315_S0000660.wav',\n",
       "  'array': array([0.0005188 , 0.00085449, 0.00012207, ..., 0.00125122, 0.00076294,\n",
       "         0.00036621]),\n",
       "  'sampling_rate': 16000},\n",
       " 'begin_time': 2941.89,\n",
       " 'end_time': 2945.07,\n",
       " 'audio_id': 'YOU0000000315',\n",
       " 'title': 'Return to Vasselheim | Critical Role: VOX MACHINA | Episode 43',\n",
       " 'url': 'https://www.youtube.com/watch?v=zr2n1fLVasU',\n",
       " 'source': 2,\n",
       " 'category': 24,\n",
       " 'original_full_path': 'audio/youtube/P0004/YOU0000000315.opus'}"
      ]
     },
     "execution_count": 8,
     "metadata": {},
     "output_type": "execute_result"
    }
   ],
   "source": [
    "example = next(iter(gigaspeech[\"train\"]))"
   ]
  },
  {
   "cell_type": "code",
   "execution_count": 34,
   "id": "44636492-5fd3-49a0-b910-e9655f89b468",
   "metadata": {},
   "outputs": [
    {
     "data": {
      "text/plain": [
       "[{'segment_id': 'YOU0000000315_S0000660',\n",
       "  'speaker': 'N/A',\n",
       "  'text': \"AS THEY'RE LEAVING <COMMA> CAN KASH PULL ZAHRA ASIDE REALLY QUICKLY <QUESTIONMARK>\",\n",
       "  'audio': {'path': 'xs_chunks_0000/YOU0000000315_S0000660.wav',\n",
       "   'array': array([0.0005188 , 0.00085449, 0.00012207, ..., 0.00125122, 0.00076294,\n",
       "          0.00036621]),\n",
       "   'sampling_rate': 16000},\n",
       "  'begin_time': 2941.89,\n",
       "  'end_time': 2945.07,\n",
       "  'audio_id': 'YOU0000000315',\n",
       "  'title': 'Return to Vasselheim | Critical Role: VOX MACHINA | Episode 43',\n",
       "  'url': 'https://www.youtube.com/watch?v=zr2n1fLVasU',\n",
       "  'source': 2,\n",
       "  'category': 24,\n",
       "  'original_full_path': 'audio/youtube/P0004/YOU0000000315.opus'},\n",
       " {'segment_id': 'AUD0000001043_S0000775',\n",
       "  'speaker': 'N/A',\n",
       "  'text': 'SIX TOMATOES <PERIOD>',\n",
       "  'audio': {'path': 'xs_chunks_0000/AUD0000001043_S0000775.wav',\n",
       "   'array': array([ 1.43432617e-03,  1.37329102e-03,  1.31225586e-03, ...,\n",
       "          -6.10351562e-05, -1.22070312e-04, -1.83105469e-04]),\n",
       "   'sampling_rate': 16000},\n",
       "  'begin_time': 3673.96,\n",
       "  'end_time': 3675.26,\n",
       "  'audio_id': 'AUD0000001043',\n",
       "  'title': 'Asteroid of Fear',\n",
       "  'url': 'http//www.archive.org/download/asteroid_of_fear_1012_librivox/asteroid_of_fear_1012_librivox_64kb_mp3.zip',\n",
       "  'source': 0,\n",
       "  'category': 28,\n",
       "  'original_full_path': 'audio/audiobook/P0011/AUD0000001043.opus'},\n",
       " {'segment_id': 'AUD0000001043_S0000942',\n",
       "  'speaker': 'N/A',\n",
       "  'text': 'AND SOMETHING BROUGHT BACK RESTORED FROM THE REMOTE PAST <PERIOD>',\n",
       "  'audio': {'path': 'xs_chunks_0000/AUD0000001043_S0000942.wav',\n",
       "   'array': array([-0.00045776, -0.00033569, -0.00027466, ...,  0.00067139,\n",
       "           0.00067139,  0.00064087]),\n",
       "   'sampling_rate': 16000},\n",
       "  'begin_time': 4393.0,\n",
       "  'end_time': 4397.11,\n",
       "  'audio_id': 'AUD0000001043',\n",
       "  'title': 'Asteroid of Fear',\n",
       "  'url': 'http//www.archive.org/download/asteroid_of_fear_1012_librivox/asteroid_of_fear_1012_librivox_64kb_mp3.zip',\n",
       "  'source': 0,\n",
       "  'category': 28,\n",
       "  'original_full_path': 'audio/audiobook/P0011/AUD0000001043.opus'},\n",
       " {'segment_id': 'YOU0000000299_S0000629',\n",
       "  'speaker': 'N/A',\n",
       "  'text': 'TO HELP SCREEN READER USERS IN THE MIDST OF DIV SOUP AND SPAN SALAD <PERIOD>',\n",
       "  'audio': {'path': 'xs_chunks_0000/YOU0000000299_S0000629.wav',\n",
       "   'array': array([0.00021362, 0.00036621, 0.00054932, ..., 0.00030518, 0.00030518,\n",
       "          0.00024414]),\n",
       "   'sampling_rate': 16000},\n",
       "  'begin_time': 2553.74,\n",
       "  'end_time': 2557.77,\n",
       "  'audio_id': 'YOU0000000299',\n",
       "  'title': 'Making Accessible Web Apps Using HTML5 and ChromeVox',\n",
       "  'url': 'https://www.youtube.com/watch?v=x18vEEfpK3g',\n",
       "  'source': 2,\n",
       "  'category': 15,\n",
       "  'original_full_path': 'audio/youtube/P0003/YOU0000000299.opus'},\n",
       " {'segment_id': 'AUD0000000468_S0000084',\n",
       "  'speaker': 'N/A',\n",
       "  'text': 'FOR ALICE HAD READ SEVERAL NICE LITTLE STORIES ABOUT CHILDREN THAT GOT BURNT <COMMA> AND EATEN UP BY WILD BEASTS <COMMA> AND OTHER UNPLEASANT THINGS <COMMA>',\n",
       "  'audio': {'path': 'xs_chunks_0000/AUD0000000468_S0000084.wav',\n",
       "   'array': array([0.00619507, 0.00524902, 0.00396729, ..., 0.00128174, 0.0005188 ,\n",
       "          0.00064087]),\n",
       "   'sampling_rate': 16000},\n",
       "  'begin_time': 525.56,\n",
       "  'end_time': 534.42,\n",
       "  'audio_id': 'AUD0000000468',\n",
       "  'title': \"Alice's Adventures Underground\",\n",
       "  'url': 'http//www.archive.org/download/alice_underground_pc_librivox/alice_underground_pc_librivox_64kb_mp3.zip',\n",
       "  'source': 0,\n",
       "  'category': 28,\n",
       "  'original_full_path': 'audio/audiobook/P0005/AUD0000000468.opus'}]"
      ]
     },
     "execution_count": 34,
     "metadata": {},
     "output_type": "execute_result"
    }
   ],
   "source": [
    "gigaspeech_head = gigaspeech[\"train\"].take(5)\n",
    "list(gigaspeech_head)"
   ]
  },
  {
   "cell_type": "code",
   "execution_count": 10,
   "id": "92f94973-b4e7-4015-90c0-fca1437d0464",
   "metadata": {},
   "outputs": [],
   "source": [
    "from transformers import WhisperFeatureExtractor\n",
    "\n",
    "feature_extractor = WhisperFeatureExtractor.from_pretrained(\"openai/whisper-small\")"
   ]
  },
  {
   "cell_type": "code",
   "execution_count": 38,
   "id": "4c12a503-3297-42f9-ba3e-8562a0397c37",
   "metadata": {},
   "outputs": [],
   "source": [
    "import numpy as np\n",
    "import matplotlib.pyplot as plt\n",
    "import librosa\n",
    "\n",
    "example = next(iter(gigaspeech[\"train\"]))\n",
    "audio = example[\"audio\"]\n",
    "input_features = feature_extractor(\n",
    "    audio[\"array\"], sampling_rate=audio[\"sampling_rate\"], padding=True\n",
    ")"
   ]
  },
  {
   "cell_type": "code",
   "execution_count": 39,
   "id": "fbf3a4f0-d204-4c92-a3de-58399092fd83",
   "metadata": {},
   "outputs": [
    {
     "data": {
      "text/plain": [
       "array([[[-0.46088338,  0.06310332, -0.13373983, ...,  0.23716682,\n",
       "          0.07767665, -0.09173727],\n",
       "        [-0.28669178,  0.17461461,  0.18993527, ...,  0.2470293 ,\n",
       "          0.00467807,  0.02697295],\n",
       "        [ 0.02593225,  0.12832451,  0.24537772, ...,  0.22887874,\n",
       "          0.13716024,  0.10615575],\n",
       "        ...,\n",
       "        [-0.68310595, -0.70908964, -0.70908964, ..., -0.6712574 ,\n",
       "         -0.70908964, -0.70908964],\n",
       "        [-0.70908964, -0.70908964, -0.70908964, ..., -0.70908964,\n",
       "         -0.70908964, -0.70908964],\n",
       "        [-0.70908964, -0.70908964, -0.70908964, ..., -0.70908964,\n",
       "         -0.70908964, -0.70908964]]], dtype=float32)"
      ]
     },
     "execution_count": 39,
     "metadata": {},
     "output_type": "execute_result"
    }
   ],
   "source": [
    "input_features['input_features']"
   ]
  },
  {
   "cell_type": "code",
   "execution_count": 28,
   "id": "1267753c-1df2-4fd7-a4fb-4b0740a5de42",
   "metadata": {},
   "outputs": [
    {
     "data": {
      "text/plain": [
       "80"
      ]
     },
     "execution_count": 28,
     "metadata": {},
     "output_type": "execute_result"
    }
   ],
   "source": [
    "len(input_features['input_features'][0])"
   ]
  },
  {
   "cell_type": "code",
   "execution_count": null,
   "id": "6fe31bb6-0f43-4d58-8d6b-32014619bd14",
   "metadata": {},
   "outputs": [
    {
     "data": {
      "text/plain": [
       "<matplotlib.colorbar.Colorbar at 0x7f9e53e3b640>"
      ]
     },
     "execution_count": 43,
     "metadata": {},
     "output_type": "execute_result"
    }
   ],
   "source": [
    "plt.figure().set_figwidth(12)\n",
    "librosa.display.specshow(\n",
    "    np.asarray(input_features['input_features'][0]),\n",
    "    x_axis=\"time\",\n",
    "    y_axis=\"mel\",\n",
    "    sr=feature_extractor.sampling_rate,\n",
    "    hop_length=feature_extractor.hop_length,\n",
    ")\n",
    "plt.colorbar()"
   ]
  },
  {
   "cell_type": "code",
   "execution_count": null,
   "id": "83544088-11c5-4f8c-90d4-62aef53a9029",
   "metadata": {},
   "outputs": [],
   "source": []
  }
 ],
 "metadata": {
  "kernelspec": {
   "display_name": "Python 3",
   "language": "python",
   "name": "python3"
  },
  "language_info": {
   "codemirror_mode": {
    "name": "ipython",
    "version": 3
   },
   "file_extension": ".py",
   "mimetype": "text/x-python",
   "name": "python",
   "nbconvert_exporter": "python",
   "pygments_lexer": "ipython3",
   "version": "3.10.10"
  }
 },
 "nbformat": 4,
 "nbformat_minor": 5
}
