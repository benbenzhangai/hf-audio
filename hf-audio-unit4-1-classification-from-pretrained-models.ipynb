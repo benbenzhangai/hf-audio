{
 "cells": [
  {
   "cell_type": "markdown",
   "id": "9137ccee-792d-490d-bb89-851e84f5381f",
   "metadata": {},
   "source": [
    "## Pre-trained models\n",
    "\n",
    "Remark:\n",
    "Decoder-only models introduce **unnecessary complexity** to the task, since they assume that the **outputs can also be a sequence of predictions** (rather than a single class label prediction), and so **generate multiple outputs**. Therefore, they have slower inference speed and tend not to be used. Encoder-decoder models are largely omitted for the same reason. These architecture choices are analogous to those in NLP, where encoder-only models such as BERT are favoured for sequence classification tasks, and decoder-only models such as GPT reserved for sequence generation tasks."
   ]
  },
  {
   "cell_type": "markdown",
   "id": "33c01843-8ef4-4cf0-b776-06d46232def1",
   "metadata": {},
   "source": [
    "## Task 1: Keyword spotting\n",
    "Keyword spotting (KWS) is the task of identifying a keyword in a spoken utterance. The set of possible keywords forms the set of predicted class labels.\n",
    "\n",
    "Thought: in automated customer phone service systems, we always hear that questions from machine. \n",
    "\n",
    "\n",
    "**Dataset 1: mind-14**"
   ]
  },
  {
   "cell_type": "code",
   "execution_count": 1,
   "id": "9672f7a7-9187-4c06-bd7a-ff986b3665c6",
   "metadata": {},
   "outputs": [
    {
     "name": "stderr",
     "output_type": "stream",
     "text": [
      "/home/zeus/miniconda3/envs/cloudspace/lib/python3.10/site-packages/datasets/load.py:1461: FutureWarning: The repository for PolyAI/minds14 contains custom code which must be executed to correctly load the dataset. You can inspect the repository content at https://hf.co/datasets/PolyAI/minds14\n",
      "You can avoid this message in future by passing the argument `trust_remote_code=True`.\n",
      "Passing `trust_remote_code=True` will be mandatory to load this dataset from the next major release of `datasets`.\n",
      "  warnings.warn(\n"
     ]
    }
   ],
   "source": [
    "from datasets import load_dataset\n",
    "\n",
    "minds = load_dataset(\"PolyAI/minds14\", name=\"en-AU\", split=\"train\")"
   ]
  },
  {
   "cell_type": "code",
   "execution_count": 2,
   "id": "56c48b4d-99e6-4642-acbf-d7e3281dc636",
   "metadata": {},
   "outputs": [
    {
     "name": "stderr",
     "output_type": "stream",
     "text": [
      "Device set to use cuda:0\n"
     ]
    }
   ],
   "source": [
    "from transformers import pipeline\n",
    "\n",
    "classifier = pipeline(\n",
    "    \"audio-classification\",\n",
    "    model=\"anton-l/xtreme_s_xlsr_300m_minds14\",\n",
    ")"
   ]
  },
  {
   "cell_type": "code",
   "execution_count": 3,
   "id": "9bd6c7ca-38ca-4dec-8b2d-e886eabef1ec",
   "metadata": {
    "scrolled": true
   },
   "outputs": [],
   "source": [
    "# !pip install torchaudio"
   ]
  },
  {
   "cell_type": "code",
   "execution_count": 4,
   "id": "700dc145-90f6-4d14-9925-5011807a227a",
   "metadata": {},
   "outputs": [
    {
     "data": {
      "text/plain": [
       "[{'score': 0.9611986875534058, 'label': 'pay_bill'},\n",
       " {'score': 0.02960182912647724, 'label': 'freeze'},\n",
       " {'score': 0.0035503047984093428, 'label': 'card_issues'},\n",
       " {'score': 0.0021323109976947308, 'label': 'abroad'},\n",
       " {'score': 0.0008829635917209089, 'label': 'high_value_payment'},\n",
       " {'score': 0.0007431716076098382, 'label': 'direct_debit'},\n",
       " {'score': 0.00041438330663368106, 'label': 'latest_transactions'},\n",
       " {'score': 0.0003488645306788385, 'label': 'joint_account'},\n",
       " {'score': 0.00033650704426690936, 'label': 'address'},\n",
       " {'score': 0.00032862863736227155, 'label': 'balance'},\n",
       " {'score': 0.0001560128730488941, 'label': 'app_error'},\n",
       " {'score': 0.00015001850260887295, 'label': 'atm_limit'},\n",
       " {'score': 8.987425098894164e-05, 'label': 'cash_deposit'},\n",
       " {'score': 6.637126352870837e-05, 'label': 'business_loan'}]"
      ]
     },
     "execution_count": 4,
     "metadata": {},
     "output_type": "execute_result"
    }
   ],
   "source": [
    "classifier(minds[0][\"audio\"])"
   ]
  },
  {
   "cell_type": "markdown",
   "id": "e8c59e43-7583-4cf7-afc4-cc70f0063655",
   "metadata": {},
   "source": [
    "**Dataset 2: Speech Commands**"
   ]
  },
  {
   "cell_type": "markdown",
   "id": "5eae476c-07b5-4f08-b265-7e3588e302fe",
   "metadata": {},
   "source": [
    "**Debug**\n",
    "\n",
    "Error: \"UnicodeDecodeError: 'utf-8' codec can't decode byte 0x8f in position 1: invalid start byte\"\n"
   ]
  },
  {
   "cell_type": "code",
   "execution_count": 13,
   "id": "5b2196d1-6de4-4887-8576-056ef8c44d53",
   "metadata": {
    "scrolled": true
   },
   "outputs": [
    {
     "name": "stdout",
     "output_type": "stream",
     "text": [
      "Collecting datasets==3.5.0\n",
      "  Downloading datasets-3.5.0-py3-none-any.whl.metadata (19 kB)\n",
      "Requirement already satisfied: filelock in /system/conda/miniconda3/envs/cloudspace/lib/python3.10/site-packages (from datasets==3.5.0) (3.18.0)\n",
      "Requirement already satisfied: numpy>=1.17 in /system/conda/miniconda3/envs/cloudspace/lib/python3.10/site-packages (from datasets==3.5.0) (1.26.4)\n",
      "Requirement already satisfied: pyarrow>=15.0.0 in /system/conda/miniconda3/envs/cloudspace/lib/python3.10/site-packages (from datasets==3.5.0) (20.0.0)\n",
      "Requirement already satisfied: dill<0.3.9,>=0.3.0 in /system/conda/miniconda3/envs/cloudspace/lib/python3.10/site-packages (from datasets==3.5.0) (0.3.8)\n",
      "Requirement already satisfied: pandas in /system/conda/miniconda3/envs/cloudspace/lib/python3.10/site-packages (from datasets==3.5.0) (2.1.4)\n",
      "Requirement already satisfied: requests>=2.32.2 in /system/conda/miniconda3/envs/cloudspace/lib/python3.10/site-packages (from datasets==3.5.0) (2.32.4)\n",
      "Requirement already satisfied: tqdm>=4.66.3 in /system/conda/miniconda3/envs/cloudspace/lib/python3.10/site-packages (from datasets==3.5.0) (4.67.1)\n",
      "Requirement already satisfied: xxhash in /system/conda/miniconda3/envs/cloudspace/lib/python3.10/site-packages (from datasets==3.5.0) (3.5.0)\n",
      "Requirement already satisfied: multiprocess<0.70.17 in /system/conda/miniconda3/envs/cloudspace/lib/python3.10/site-packages (from datasets==3.5.0) (0.70.16)\n",
      "Requirement already satisfied: fsspec<=2024.12.0,>=2023.1.0 in /system/conda/miniconda3/envs/cloudspace/lib/python3.10/site-packages (from fsspec[http]<=2024.12.0,>=2023.1.0->datasets==3.5.0) (2024.2.0)\n",
      "Requirement already satisfied: aiohttp in /system/conda/miniconda3/envs/cloudspace/lib/python3.10/site-packages (from datasets==3.5.0) (3.12.13)\n",
      "Requirement already satisfied: huggingface-hub>=0.24.0 in /system/conda/miniconda3/envs/cloudspace/lib/python3.10/site-packages (from datasets==3.5.0) (0.33.4)\n",
      "Requirement already satisfied: packaging in /system/conda/miniconda3/envs/cloudspace/lib/python3.10/site-packages (from datasets==3.5.0) (25.0)\n",
      "Requirement already satisfied: pyyaml>=5.1 in /system/conda/miniconda3/envs/cloudspace/lib/python3.10/site-packages (from datasets==3.5.0) (6.0.2)\n",
      "Requirement already satisfied: aiohappyeyeballs>=2.5.0 in /system/conda/miniconda3/envs/cloudspace/lib/python3.10/site-packages (from aiohttp->datasets==3.5.0) (2.6.1)\n",
      "Requirement already satisfied: aiosignal>=1.1.2 in /system/conda/miniconda3/envs/cloudspace/lib/python3.10/site-packages (from aiohttp->datasets==3.5.0) (1.3.2)\n",
      "Requirement already satisfied: async-timeout<6.0,>=4.0 in /system/conda/miniconda3/envs/cloudspace/lib/python3.10/site-packages (from aiohttp->datasets==3.5.0) (5.0.1)\n",
      "Requirement already satisfied: attrs>=17.3.0 in /system/conda/miniconda3/envs/cloudspace/lib/python3.10/site-packages (from aiohttp->datasets==3.5.0) (25.3.0)\n",
      "Requirement already satisfied: frozenlist>=1.1.1 in /system/conda/miniconda3/envs/cloudspace/lib/python3.10/site-packages (from aiohttp->datasets==3.5.0) (1.7.0)\n",
      "Requirement already satisfied: multidict<7.0,>=4.5 in /system/conda/miniconda3/envs/cloudspace/lib/python3.10/site-packages (from aiohttp->datasets==3.5.0) (6.5.0)\n",
      "Requirement already satisfied: propcache>=0.2.0 in /system/conda/miniconda3/envs/cloudspace/lib/python3.10/site-packages (from aiohttp->datasets==3.5.0) (0.3.2)\n",
      "Requirement already satisfied: yarl<2.0,>=1.17.0 in /system/conda/miniconda3/envs/cloudspace/lib/python3.10/site-packages (from aiohttp->datasets==3.5.0) (1.20.1)\n",
      "Requirement already satisfied: typing-extensions>=4.1.0 in /system/conda/miniconda3/envs/cloudspace/lib/python3.10/site-packages (from multidict<7.0,>=4.5->aiohttp->datasets==3.5.0) (4.14.0)\n",
      "Requirement already satisfied: idna>=2.0 in /system/conda/miniconda3/envs/cloudspace/lib/python3.10/site-packages (from yarl<2.0,>=1.17.0->aiohttp->datasets==3.5.0) (3.10)\n",
      "Requirement already satisfied: hf-xet<2.0.0,>=1.1.2 in /system/conda/miniconda3/envs/cloudspace/lib/python3.10/site-packages (from huggingface-hub>=0.24.0->datasets==3.5.0) (1.1.5)\n",
      "Requirement already satisfied: charset_normalizer<4,>=2 in /system/conda/miniconda3/envs/cloudspace/lib/python3.10/site-packages (from requests>=2.32.2->datasets==3.5.0) (3.4.2)\n",
      "Requirement already satisfied: urllib3<3,>=1.21.1 in /system/conda/miniconda3/envs/cloudspace/lib/python3.10/site-packages (from requests>=2.32.2->datasets==3.5.0) (2.5.0)\n",
      "Requirement already satisfied: certifi>=2017.4.17 in /system/conda/miniconda3/envs/cloudspace/lib/python3.10/site-packages (from requests>=2.32.2->datasets==3.5.0) (2025.6.15)\n",
      "Requirement already satisfied: python-dateutil>=2.8.2 in /system/conda/miniconda3/envs/cloudspace/lib/python3.10/site-packages (from pandas->datasets==3.5.0) (2.9.0.post0)\n",
      "Requirement already satisfied: pytz>=2020.1 in /system/conda/miniconda3/envs/cloudspace/lib/python3.10/site-packages (from pandas->datasets==3.5.0) (2025.2)\n",
      "Requirement already satisfied: tzdata>=2022.1 in /system/conda/miniconda3/envs/cloudspace/lib/python3.10/site-packages (from pandas->datasets==3.5.0) (2025.2)\n",
      "Requirement already satisfied: six>=1.5 in /system/conda/miniconda3/envs/cloudspace/lib/python3.10/site-packages (from python-dateutil>=2.8.2->pandas->datasets==3.5.0) (1.17.0)\n",
      "Downloading datasets-3.5.0-py3-none-any.whl (491 kB)\n",
      "Installing collected packages: datasets\n",
      "  Attempting uninstall: datasets\n",
      "    Found existing installation: datasets 3.0.0\n",
      "    Uninstalling datasets-3.0.0:\n",
      "      Successfully uninstalled datasets-3.0.0\n",
      "Successfully installed datasets-3.5.0\n"
     ]
    }
   ],
   "source": [
    "# !pip install -U datasets==3.5.0"
   ]
  },
  {
   "cell_type": "code",
   "execution_count": 6,
   "id": "e7bacf88-e2e2-47aa-a23a-cc351058d84a",
   "metadata": {},
   "outputs": [],
   "source": [
    "# Clean up cache\n",
    "# from datasets import load_dataset\n",
    "# import shutil\n",
    "# import os\n",
    "# from datasets import config\n",
    "\n",
    "# # Clear the datasets cache\n",
    "# cache_dir = config.HF_DATASETS_CACHE\n",
    "# if os.path.exists(cache_dir):\n",
    "#     shutil.rmtree(cache_dir)"
   ]
  },
  {
   "cell_type": "code",
   "execution_count": 1,
   "id": "dd8c9219-5212-441f-bdcf-287b08e9dcf7",
   "metadata": {},
   "outputs": [],
   "source": [
    "from datasets import load_dataset\n",
    "speech_commands = load_dataset(\"google/speech_commands\",'v0.02', split=\"test\", streaming=True, trust_remote_code=True)"
   ]
  },
  {
   "cell_type": "code",
   "execution_count": 2,
   "id": "a8587b0d-aea3-483a-b1bd-244dc797f34f",
   "metadata": {},
   "outputs": [],
   "source": [
    "sample = next(iter(speech_commands))"
   ]
  },
  {
   "cell_type": "code",
   "execution_count": 4,
   "id": "a8e0a52f-2fe9-42d9-87bd-862eb627d40b",
   "metadata": {},
   "outputs": [
    {
     "data": {
      "application/vnd.jupyter.widget-view+json": {
       "model_id": "2cac6115537147d9a39b99b5b96950aa",
       "version_major": 2,
       "version_minor": 0
      },
      "text/plain": [
       "config.json: 0.00B [00:00, ?B/s]"
      ]
     },
     "metadata": {},
     "output_type": "display_data"
    },
    {
     "data": {
      "application/vnd.jupyter.widget-view+json": {
       "model_id": "41561db2c53f491d895ebb22c0504e7c",
       "version_major": 2,
       "version_minor": 0
      },
      "text/plain": [
       "model.safetensors:   0%|          | 0.00/342M [00:00<?, ?B/s]"
      ]
     },
     "metadata": {},
     "output_type": "display_data"
    },
    {
     "data": {
      "application/vnd.jupyter.widget-view+json": {
       "model_id": "051e69e74ce042f4ac49bd5c6681e546",
       "version_major": 2,
       "version_minor": 0
      },
      "text/plain": [
       "preprocessor_config.json:   0%|          | 0.00/295 [00:00<?, ?B/s]"
      ]
     },
     "metadata": {},
     "output_type": "display_data"
    },
    {
     "name": "stderr",
     "output_type": "stream",
     "text": [
      "Device set to use cuda:0\n"
     ]
    },
    {
     "data": {
      "text/plain": [
       "[{'score': 0.9999935626983643, 'label': 'backward'},\n",
       " {'score': 3.480505768038711e-07, 'label': 'forward'},\n",
       " {'score': 3.386815592421044e-07, 'label': 'wow'},\n",
       " {'score': 3.346547146065859e-07, 'label': 'no'},\n",
       " {'score': 3.25733594763733e-07, 'label': 'nine'},\n",
       " {'score': 3.202465279628086e-07, 'label': 'bed'},\n",
       " {'score': 2.9240482035675086e-07, 'label': 'one'},\n",
       " {'score': 2.7300310989630816e-07, 'label': 'happy'},\n",
       " {'score': 2.6830909405362036e-07, 'label': 'go'},\n",
       " {'score': 2.597722641439759e-07, 'label': 'marvin'},\n",
       " {'score': 2.4865516934369225e-07, 'label': 'eight'},\n",
       " {'score': 2.2869116378387844e-07, 'label': 'two'},\n",
       " {'score': 2.2801869192790036e-07, 'label': 'up'},\n",
       " {'score': 2.1338999545150727e-07, 'label': 'three'},\n",
       " {'score': 1.9935103523494035e-07, 'label': 'zero'},\n",
       " {'score': 1.954659580860607e-07, 'label': 'four'},\n",
       " {'score': 1.8153299663481448e-07, 'label': 'five'},\n",
       " {'score': 1.815070334032498e-07, 'label': 'off'},\n",
       " {'score': 1.7533157858906634e-07, 'label': 'down'},\n",
       " {'score': 1.6308042916080012e-07, 'label': 'yes'},\n",
       " {'score': 1.609981268302363e-07, 'label': 'right'},\n",
       " {'score': 1.407928778007772e-07, 'label': 'on'},\n",
       " {'score': 1.3984144686673972e-07, 'label': 'cat'},\n",
       " {'score': 1.306215722252091e-07, 'label': 'house'},\n",
       " {'score': 1.2897537260414538e-07, 'label': 'bird'},\n",
       " {'score': 1.266213729422816e-07, 'label': 'six'},\n",
       " {'score': 1.1790248066745335e-07, 'label': 'tree'},\n",
       " {'score': 1.1682596579021265e-07, 'label': 'left'},\n",
       " {'score': 1.1066474314702646e-07, 'label': 'stop'},\n",
       " {'score': 1.0884642875907957e-07, 'label': 'visual'},\n",
       " {'score': 9.428034530856166e-08, 'label': 'follow'},\n",
       " {'score': 9.405403744722207e-08, 'label': 'seven'},\n",
       " {'score': 8.574210141887306e-08, 'label': 'learn'},\n",
       " {'score': 5.379211742706502e-08, 'label': 'dog'},\n",
       " {'score': 3.491305022862434e-08, 'label': 'sheila'}]"
      ]
     },
     "execution_count": 4,
     "metadata": {},
     "output_type": "execute_result"
    }
   ],
   "source": [
    "from transformers import pipeline\n",
    "classifier = pipeline(\n",
    "    \"audio-classification\", model=\"MIT/ast-finetuned-speech-commands-v2\"\n",
    ")\n",
    "classifier(sample[\"audio\"].copy())"
   ]
  },
  {
   "cell_type": "markdown",
   "id": "fd4fec29-1ce3-4111-98df-525c22f3a3f8",
   "metadata": {},
   "source": [
    "## Language Identification\n",
    "\n",
    "It can be a triage task for ASR model specifically to a languange"
   ]
  },
  {
   "cell_type": "code",
   "execution_count": 5,
   "id": "0dee072e-051b-47c8-9f12-0f4981acef45",
   "metadata": {},
   "outputs": [
    {
     "data": {
      "application/vnd.jupyter.widget-view+json": {
       "model_id": "95cb4c95bb6a4c3eb5435b4ffce3425c",
       "version_major": 2,
       "version_minor": 0
      },
      "text/plain": [
       "README.md: 0.00B [00:00, ?B/s]"
      ]
     },
     "metadata": {},
     "output_type": "display_data"
    },
    {
     "data": {
      "application/vnd.jupyter.widget-view+json": {
       "model_id": "a0e404f8831746e1aba694a6fead09bf",
       "version_major": 2,
       "version_minor": 0
      },
      "text/plain": [
       "fleurs.py: 0.00B [00:00, ?B/s]"
      ]
     },
     "metadata": {},
     "output_type": "display_data"
    },
    {
     "name": "stdin",
     "output_type": "stream",
     "text": [
      "The repository for google/fleurs contains custom code which must be executed to correctly load the dataset. You can inspect the repository content at https://hf.co/datasets/google/fleurs.\n",
      "You can avoid this prompt in future by passing the argument `trust_remote_code=True`.\n",
      "\n",
      "Do you wish to run the custom code? [y/N]  y\n"
     ]
    }
   ],
   "source": [
    "fleurs = load_dataset(\"google/fleurs\", \"all\", split=\"validation\", streaming=True)\n",
    "sample = next(iter(fleurs))"
   ]
  },
  {
   "cell_type": "code",
   "execution_count": 6,
   "id": "f14bc8cb-cefa-4410-9888-fc0cb1705514",
   "metadata": {},
   "outputs": [
    {
     "data": {
      "application/vnd.jupyter.widget-view+json": {
       "model_id": "3ce1aac77f7b40149157478f8afef36b",
       "version_major": 2,
       "version_minor": 0
      },
      "text/plain": [
       "config.json: 0.00B [00:00, ?B/s]"
      ]
     },
     "metadata": {},
     "output_type": "display_data"
    },
    {
     "data": {
      "application/vnd.jupyter.widget-view+json": {
       "model_id": "1ab10976e8af4db6a31d13b4d4614b38",
       "version_major": 2,
       "version_minor": 0
      },
      "text/plain": [
       "model.safetensors:   0%|          | 0.00/615M [00:00<?, ?B/s]"
      ]
     },
     "metadata": {},
     "output_type": "display_data"
    },
    {
     "data": {
      "application/vnd.jupyter.widget-view+json": {
       "model_id": "faafd6a924e845c1bb2bec0e7bc50146",
       "version_major": 2,
       "version_minor": 0
      },
      "text/plain": [
       "preprocessor_config.json:   0%|          | 0.00/339 [00:00<?, ?B/s]"
      ]
     },
     "metadata": {},
     "output_type": "display_data"
    },
    {
     "name": "stderr",
     "output_type": "stream",
     "text": [
      "Device set to use cuda:0\n"
     ]
    }
   ],
   "source": [
    "classifier = pipeline(\n",
    "    \"audio-classification\", model=\"sanchit-gandhi/whisper-medium-fleurs-lang-id\"\n",
    ")"
   ]
  },
  {
   "cell_type": "code",
   "execution_count": 7,
   "id": "1407f196-3c36-4f8b-8fe9-b1c9259f1e0c",
   "metadata": {
    "scrolled": true
   },
   "outputs": [
    {
     "data": {
      "text/plain": [
       "[{'score': 1.0, 'label': 'Afrikaans'},\n",
       " {'score': 7.092952728271484e-06, 'label': 'Northern-Sotho'},\n",
       " {'score': 4.291534423828125e-06, 'label': 'Icelandic'},\n",
       " {'score': 3.2782554626464844e-06, 'label': 'Danish'},\n",
       " {'score': 3.2782554626464844e-06, 'label': 'Cantonese Chinese'},\n",
       " {'score': 3.2186508178710938e-06, 'label': 'Luxembourgish'},\n",
       " {'score': 3.159046173095703e-06, 'label': 'Tamil'},\n",
       " {'score': 3.039836883544922e-06, 'label': 'Uzbek'},\n",
       " {'score': 3.039836883544922e-06, 'label': 'Bengali'},\n",
       " {'score': 2.9206275939941406e-06, 'label': 'Maltese'},\n",
       " {'score': 1.6093254089355469e-06, 'label': 'Kazakh'},\n",
       " {'score': 1.3709068298339844e-06, 'label': 'Oromo'},\n",
       " {'score': 1.2516975402832031e-06, 'label': 'Polish'},\n",
       " {'score': 1.1920928955078125e-06, 'label': 'English'},\n",
       " {'score': 1.0728836059570312e-06, 'label': 'Dutch'},\n",
       " {'score': 1.0132789611816406e-06, 'label': 'Estonian'},\n",
       " {'score': 9.5367431640625e-07, 'label': 'Belarusian'},\n",
       " {'score': 8.940696716308594e-07, 'label': 'Marathi'},\n",
       " {'score': 8.940696716308594e-07, 'label': 'Zulu'},\n",
       " {'score': 8.940696716308594e-07, 'label': 'Greek'},\n",
       " {'score': 8.344650268554688e-07, 'label': 'Sorani-Kurdish'},\n",
       " {'score': 7.748603820800781e-07, 'label': 'Russian'},\n",
       " {'score': 7.748603820800781e-07, 'label': 'Vietnamese'},\n",
       " {'score': 7.748603820800781e-07, 'label': 'Bosnian'},\n",
       " {'score': 7.152557373046875e-07, 'label': 'Czech'},\n",
       " {'score': 7.152557373046875e-07, 'label': 'Macedonian'},\n",
       " {'score': 7.152557373046875e-07, 'label': 'Asturian'},\n",
       " {'score': 6.556510925292969e-07, 'label': 'Maori'},\n",
       " {'score': 5.960464477539062e-07, 'label': 'Galician'},\n",
       " {'score': 5.960464477539062e-07, 'label': 'Xhosa'},\n",
       " {'score': 5.960464477539062e-07, 'label': 'Welsh'},\n",
       " {'score': 5.364418029785156e-07, 'label': 'Irish'},\n",
       " {'score': 5.364418029785156e-07, 'label': 'Finnish'},\n",
       " {'score': 5.364418029785156e-07, 'label': 'Armenian'},\n",
       " {'score': 5.364418029785156e-07, 'label': 'Wolof'},\n",
       " {'score': 5.364418029785156e-07, 'label': 'Umbundu'},\n",
       " {'score': 4.76837158203125e-07, 'label': 'Romanian'},\n",
       " {'score': 4.76837158203125e-07, 'label': 'Serbian'},\n",
       " {'score': 4.172325134277344e-07, 'label': 'Slovak'},\n",
       " {'score': 4.172325134277344e-07, 'label': 'Korean'},\n",
       " {'score': 4.172325134277344e-07, 'label': 'Malayalam'},\n",
       " {'score': 4.172325134277344e-07, 'label': 'Spanish'},\n",
       " {'score': 4.172325134277344e-07, 'label': 'Ukrainian'},\n",
       " {'score': 4.172325134277344e-07, 'label': 'German'},\n",
       " {'score': 4.172325134277344e-07, 'label': 'Nyanja'},\n",
       " {'score': 4.172325134277344e-07, 'label': 'Hebrew'},\n",
       " {'score': 3.5762786865234375e-07, 'label': 'Tajik'},\n",
       " {'score': 3.5762786865234375e-07, 'label': 'Igbo'},\n",
       " {'score': 3.5762786865234375e-07, 'label': 'Amharic'},\n",
       " {'score': 2.980232238769531e-07, 'label': 'Croatian'},\n",
       " {'score': 2.980232238769531e-07, 'label': 'Kannada'},\n",
       " {'score': 2.980232238769531e-07, 'label': 'Portuguese'},\n",
       " {'score': 2.980232238769531e-07, 'label': 'Fula'},\n",
       " {'score': 2.980232238769531e-07, 'label': 'Latvian'},\n",
       " {'score': 2.980232238769531e-07, 'label': 'Thai'},\n",
       " {'score': 2.980232238769531e-07, 'label': 'Bulgarian'},\n",
       " {'score': 2.980232238769531e-07, 'label': 'Persian'},\n",
       " {'score': 2.980232238769531e-07, 'label': 'Filipino'},\n",
       " {'score': 2.980232238769531e-07, 'label': 'Somali'},\n",
       " {'score': 2.384185791015625e-07, 'label': 'Punjabi'},\n",
       " {'score': 2.384185791015625e-07, 'label': 'Swedish'},\n",
       " {'score': 1.7881393432617188e-07, 'label': 'Italian'},\n",
       " {'score': 1.7881393432617188e-07, 'label': 'Shona'},\n",
       " {'score': 1.7881393432617188e-07, 'label': 'Javanese'},\n",
       " {'score': 1.7881393432617188e-07, 'label': 'Luo'},\n",
       " {'score': 1.7881393432617188e-07, 'label': 'Telugu'},\n",
       " {'score': 1.1920928955078125e-07, 'label': 'Hungarian'},\n",
       " {'score': 1.1920928955078125e-07, 'label': 'Hausa'},\n",
       " {'score': 1.1920928955078125e-07, 'label': 'Kamba'},\n",
       " {'score': 1.1920928955078125e-07, 'label': 'Turkish'},\n",
       " {'score': 1.1920928955078125e-07, 'label': 'Mandarin Chinese'},\n",
       " {'score': 1.1920928955078125e-07, 'label': 'Indonesian'},\n",
       " {'score': 1.1920928955078125e-07, 'label': 'Cebuano'},\n",
       " {'score': 1.1920928955078125e-07, 'label': 'Catalan'},\n",
       " {'score': 1.1920928955078125e-07, 'label': 'Mongolian'},\n",
       " {'score': 1.1920928955078125e-07, 'label': 'Georgian'},\n",
       " {'score': 1.1920928955078125e-07, 'label': 'Kabuverdianu'},\n",
       " {'score': 1.1920928955078125e-07, 'label': 'Lao'},\n",
       " {'score': 1.1920928955078125e-07, 'label': 'Ganda'},\n",
       " {'score': 5.960464477539063e-08, 'label': 'Lithuanian'},\n",
       " {'score': 5.960464477539063e-08, 'label': 'Malay'},\n",
       " {'score': 5.960464477539063e-08, 'label': 'Japanese'},\n",
       " {'score': 5.960464477539063e-08, 'label': 'Assamese'},\n",
       " {'score': 5.960464477539063e-08, 'label': 'Nepali'},\n",
       " {'score': 5.960464477539063e-08, 'label': 'Oriya'},\n",
       " {'score': 5.960464477539063e-08, 'label': 'Burmese'},\n",
       " {'score': 5.960464477539063e-08, 'label': 'Occitan'},\n",
       " {'score': 5.960464477539063e-08, 'label': 'French'},\n",
       " {'score': 5.960464477539063e-08, 'label': 'Khmer'},\n",
       " {'score': 5.960464477539063e-08, 'label': 'Kyrgyz'},\n",
       " {'score': 5.960464477539063e-08, 'label': 'Slovenian'},\n",
       " {'score': 5.960464477539063e-08, 'label': 'Swahili'},\n",
       " {'score': 5.960464477539063e-08, 'label': 'Urdu'},\n",
       " {'score': 5.960464477539063e-08, 'label': 'Azerbaijani'},\n",
       " {'score': 5.960464477539063e-08, 'label': 'Arabic'},\n",
       " {'score': 5.960464477539063e-08, 'label': 'Pashto'},\n",
       " {'score': 0.0, 'label': 'Sindhi'},\n",
       " {'score': 0.0, 'label': 'Gujarati'},\n",
       " {'score': 0.0, 'label': 'Yoruba'},\n",
       " {'score': 0.0, 'label': 'Lingala'},\n",
       " {'score': 0.0, 'label': 'Hindi'},\n",
       " {'score': 0.0, 'label': 'Norwegian'}]"
      ]
     },
     "execution_count": 7,
     "metadata": {},
     "output_type": "execute_result"
    }
   ],
   "source": [
    "classifier(sample[\"audio\"])"
   ]
  },
  {
   "cell_type": "markdown",
   "id": "086e1c91-dd28-4c9f-95f3-8911984dcdf5",
   "metadata": {},
   "source": [
    "## Zero-shot classification"
   ]
  },
  {
   "cell_type": "code",
   "execution_count": 8,
   "id": "db34ab89-cacd-44f6-87df-e8e7201c6fdc",
   "metadata": {},
   "outputs": [
    {
     "data": {
      "application/vnd.jupyter.widget-view+json": {
       "model_id": "0c9634349ba641d0a60998005bc419ac",
       "version_major": 2,
       "version_minor": 0
      },
      "text/plain": [
       "README.md:   0%|          | 0.00/345 [00:00<?, ?B/s]"
      ]
     },
     "metadata": {},
     "output_type": "display_data"
    },
    {
     "name": "stderr",
     "output_type": "stream",
     "text": [
      "Repo card metadata block was not found. Setting CardData to empty.\n"
     ]
    },
    {
     "data": {
      "application/vnd.jupyter.widget-view+json": {
       "model_id": "eaa43d8603e548e1bef8a70591d6218e",
       "version_major": 2,
       "version_minor": 0
      },
      "text/plain": [
       "dataset_infos.json: 0.00B [00:00, ?B/s]"
      ]
     },
     "metadata": {},
     "output_type": "display_data"
    }
   ],
   "source": [
    "dataset = load_dataset(\"ashraq/esc50\", split=\"train\", streaming=True)\n",
    "audio_sample = next(iter(dataset))[\"audio\"][\"array\"]"
   ]
  },
  {
   "cell_type": "code",
   "execution_count": 9,
   "id": "49db1c0c-4163-4437-b7aa-b605eabc1d6f",
   "metadata": {},
   "outputs": [],
   "source": [
    "candidate_labels = [\"Sound of a dog\", \"Sound of vacuum cleaner\"]\n"
   ]
  },
  {
   "cell_type": "code",
   "execution_count": 10,
   "id": "aece73c4-479d-4af2-8db1-c4c69d4dee64",
   "metadata": {},
   "outputs": [
    {
     "data": {
      "application/vnd.jupyter.widget-view+json": {
       "model_id": "2f528859135946e0adcf850825574316",
       "version_major": 2,
       "version_minor": 0
      },
      "text/plain": [
       "config.json: 0.00B [00:00, ?B/s]"
      ]
     },
     "metadata": {},
     "output_type": "display_data"
    },
    {
     "data": {
      "application/vnd.jupyter.widget-view+json": {
       "model_id": "ddcfc24827bd4c5da0b675d370ab77c0",
       "version_major": 2,
       "version_minor": 0
      },
      "text/plain": [
       "pytorch_model.bin:   0%|          | 0.00/615M [00:00<?, ?B/s]"
      ]
     },
     "metadata": {},
     "output_type": "display_data"
    },
    {
     "data": {
      "application/vnd.jupyter.widget-view+json": {
       "model_id": "46e54cb2e0a34c8e84ef1a9a2847e62a",
       "version_major": 2,
       "version_minor": 0
      },
      "text/plain": [
       "model.safetensors:   0%|          | 0.00/614M [00:00<?, ?B/s]"
      ]
     },
     "metadata": {},
     "output_type": "display_data"
    },
    {
     "data": {
      "application/vnd.jupyter.widget-view+json": {
       "model_id": "e35b6bc826704bb68fa812cc1579391e",
       "version_major": 2,
       "version_minor": 0
      },
      "text/plain": [
       "tokenizer_config.json:   0%|          | 0.00/384 [00:00<?, ?B/s]"
      ]
     },
     "metadata": {},
     "output_type": "display_data"
    },
    {
     "data": {
      "application/vnd.jupyter.widget-view+json": {
       "model_id": "6bbd26633b904c6fab3bcdb657fdfeb9",
       "version_major": 2,
       "version_minor": 0
      },
      "text/plain": [
       "vocab.json: 0.00B [00:00, ?B/s]"
      ]
     },
     "metadata": {},
     "output_type": "display_data"
    },
    {
     "data": {
      "application/vnd.jupyter.widget-view+json": {
       "model_id": "28440be0fe284c4db829456b89e395a5",
       "version_major": 2,
       "version_minor": 0
      },
      "text/plain": [
       "merges.txt: 0.00B [00:00, ?B/s]"
      ]
     },
     "metadata": {},
     "output_type": "display_data"
    },
    {
     "data": {
      "application/vnd.jupyter.widget-view+json": {
       "model_id": "e5ad89eb4d9e483e9c7dd704f5f9169f",
       "version_major": 2,
       "version_minor": 0
      },
      "text/plain": [
       "tokenizer.json: 0.00B [00:00, ?B/s]"
      ]
     },
     "metadata": {},
     "output_type": "display_data"
    },
    {
     "data": {
      "application/vnd.jupyter.widget-view+json": {
       "model_id": "103b3165e4de4a27aa8ece319ca0cbc2",
       "version_major": 2,
       "version_minor": 0
      },
      "text/plain": [
       "special_tokens_map.json:   0%|          | 0.00/280 [00:00<?, ?B/s]"
      ]
     },
     "metadata": {},
     "output_type": "display_data"
    },
    {
     "data": {
      "application/vnd.jupyter.widget-view+json": {
       "model_id": "ee1b4984f6004a96a500940e78a57049",
       "version_major": 2,
       "version_minor": 0
      },
      "text/plain": [
       "preprocessor_config.json:   0%|          | 0.00/541 [00:00<?, ?B/s]"
      ]
     },
     "metadata": {},
     "output_type": "display_data"
    },
    {
     "name": "stderr",
     "output_type": "stream",
     "text": [
      "Device set to use cuda:0\n"
     ]
    },
    {
     "data": {
      "text/plain": [
       "[{'score': 0.9997242093086243, 'label': 'Sound of a dog'},\n",
       " {'score': 0.0002758323971647769, 'label': 'Sound of vacuum cleaner'}]"
      ]
     },
     "execution_count": 10,
     "metadata": {},
     "output_type": "execute_result"
    }
   ],
   "source": [
    "classifier = pipeline(\n",
    "    task=\"zero-shot-audio-classification\", model=\"laion/clap-htsat-unfused\"\n",
    ")\n",
    "classifier(audio_sample, candidate_labels=candidate_labels)"
   ]
  },
  {
   "cell_type": "code",
   "execution_count": null,
   "id": "ab80e456-215a-4f7e-8ece-a876bcee4f02",
   "metadata": {},
   "outputs": [],
   "source": []
  }
 ],
 "metadata": {
  "kernelspec": {
   "display_name": "Python 3",
   "language": "python",
   "name": "python3"
  },
  "language_info": {
   "codemirror_mode": {
    "name": "ipython",
    "version": 3
   },
   "file_extension": ".py",
   "mimetype": "text/x-python",
   "name": "python",
   "nbconvert_exporter": "python",
   "pygments_lexer": "ipython3",
   "version": "3.10.10"
  }
 },
 "nbformat": 4,
 "nbformat_minor": 5
}
